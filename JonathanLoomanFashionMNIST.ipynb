{
  "nbformat": 4,
  "nbformat_minor": 0,
  "metadata": {
    "colab": {
      "name": "JonathanLoomanFashionMNIST.ipynb",
      "provenance": [],
      "collapsed_sections": [],
      "include_colab_link": true
    },
    "kernelspec": {
      "name": "python3",
      "display_name": "Python 3"
    },
    "accelerator": "GPU",
    "widgets": {
      "application/vnd.jupyter.widget-state+json": {
        "47f6e266bdd94a8c802e549ebbe83e01": {
          "model_module": "@jupyter-widgets/controls",
          "model_name": "HBoxModel",
          "state": {
            "_view_name": "HBoxView",
            "_dom_classes": [],
            "_model_name": "HBoxModel",
            "_view_module": "@jupyter-widgets/controls",
            "_model_module_version": "1.5.0",
            "_view_count": null,
            "_view_module_version": "1.5.0",
            "box_style": "",
            "layout": "IPY_MODEL_517db25ce35e484fa283fa66e954f1a5",
            "_model_module": "@jupyter-widgets/controls",
            "children": [
              "IPY_MODEL_6ee6f66bf6ab4fbaae50150d5a008438",
              "IPY_MODEL_c866cf65a76f4e5382afd01ffffeca74"
            ]
          }
        },
        "517db25ce35e484fa283fa66e954f1a5": {
          "model_module": "@jupyter-widgets/base",
          "model_name": "LayoutModel",
          "state": {
            "_view_name": "LayoutView",
            "grid_template_rows": null,
            "right": null,
            "justify_content": null,
            "_view_module": "@jupyter-widgets/base",
            "overflow": null,
            "_model_module_version": "1.2.0",
            "_view_count": null,
            "flex_flow": null,
            "width": null,
            "min_width": null,
            "border": null,
            "align_items": null,
            "bottom": null,
            "_model_module": "@jupyter-widgets/base",
            "top": null,
            "grid_column": null,
            "overflow_y": null,
            "overflow_x": null,
            "grid_auto_flow": null,
            "grid_area": null,
            "grid_template_columns": null,
            "flex": null,
            "_model_name": "LayoutModel",
            "justify_items": null,
            "grid_row": null,
            "max_height": null,
            "align_content": null,
            "visibility": null,
            "align_self": null,
            "height": null,
            "min_height": null,
            "padding": null,
            "grid_auto_rows": null,
            "grid_gap": null,
            "max_width": null,
            "order": null,
            "_view_module_version": "1.2.0",
            "grid_template_areas": null,
            "object_position": null,
            "object_fit": null,
            "grid_auto_columns": null,
            "margin": null,
            "display": null,
            "left": null
          }
        },
        "6ee6f66bf6ab4fbaae50150d5a008438": {
          "model_module": "@jupyter-widgets/controls",
          "model_name": "FloatProgressModel",
          "state": {
            "_view_name": "ProgressView",
            "style": "IPY_MODEL_004bdca9045e4288b46999029732c143",
            "_dom_classes": [],
            "description": "",
            "_model_name": "FloatProgressModel",
            "bar_style": "info",
            "max": 1,
            "_view_module": "@jupyter-widgets/controls",
            "_model_module_version": "1.5.0",
            "value": 1,
            "_view_count": null,
            "_view_module_version": "1.5.0",
            "orientation": "horizontal",
            "min": 0,
            "description_tooltip": null,
            "_model_module": "@jupyter-widgets/controls",
            "layout": "IPY_MODEL_8ea6aa5e0dc344ba96b62473ae9a224c"
          }
        },
        "c866cf65a76f4e5382afd01ffffeca74": {
          "model_module": "@jupyter-widgets/controls",
          "model_name": "HTMLModel",
          "state": {
            "_view_name": "HTMLView",
            "style": "IPY_MODEL_3f0c1b2383644755a830cbd67072cfa4",
            "_dom_classes": [],
            "description": "",
            "_model_name": "HTMLModel",
            "placeholder": "​",
            "_view_module": "@jupyter-widgets/controls",
            "_model_module_version": "1.5.0",
            "value": " 26427392/? [00:20&lt;00:00, 11181235.21it/s]",
            "_view_count": null,
            "_view_module_version": "1.5.0",
            "description_tooltip": null,
            "_model_module": "@jupyter-widgets/controls",
            "layout": "IPY_MODEL_4dbea425e80c43f2b25d7e2fe150668e"
          }
        },
        "004bdca9045e4288b46999029732c143": {
          "model_module": "@jupyter-widgets/controls",
          "model_name": "ProgressStyleModel",
          "state": {
            "_view_name": "StyleView",
            "_model_name": "ProgressStyleModel",
            "description_width": "initial",
            "_view_module": "@jupyter-widgets/base",
            "_model_module_version": "1.5.0",
            "_view_count": null,
            "_view_module_version": "1.2.0",
            "bar_color": null,
            "_model_module": "@jupyter-widgets/controls"
          }
        },
        "8ea6aa5e0dc344ba96b62473ae9a224c": {
          "model_module": "@jupyter-widgets/base",
          "model_name": "LayoutModel",
          "state": {
            "_view_name": "LayoutView",
            "grid_template_rows": null,
            "right": null,
            "justify_content": null,
            "_view_module": "@jupyter-widgets/base",
            "overflow": null,
            "_model_module_version": "1.2.0",
            "_view_count": null,
            "flex_flow": null,
            "width": null,
            "min_width": null,
            "border": null,
            "align_items": null,
            "bottom": null,
            "_model_module": "@jupyter-widgets/base",
            "top": null,
            "grid_column": null,
            "overflow_y": null,
            "overflow_x": null,
            "grid_auto_flow": null,
            "grid_area": null,
            "grid_template_columns": null,
            "flex": null,
            "_model_name": "LayoutModel",
            "justify_items": null,
            "grid_row": null,
            "max_height": null,
            "align_content": null,
            "visibility": null,
            "align_self": null,
            "height": null,
            "min_height": null,
            "padding": null,
            "grid_auto_rows": null,
            "grid_gap": null,
            "max_width": null,
            "order": null,
            "_view_module_version": "1.2.0",
            "grid_template_areas": null,
            "object_position": null,
            "object_fit": null,
            "grid_auto_columns": null,
            "margin": null,
            "display": null,
            "left": null
          }
        },
        "3f0c1b2383644755a830cbd67072cfa4": {
          "model_module": "@jupyter-widgets/controls",
          "model_name": "DescriptionStyleModel",
          "state": {
            "_view_name": "StyleView",
            "_model_name": "DescriptionStyleModel",
            "description_width": "",
            "_view_module": "@jupyter-widgets/base",
            "_model_module_version": "1.5.0",
            "_view_count": null,
            "_view_module_version": "1.2.0",
            "_model_module": "@jupyter-widgets/controls"
          }
        },
        "4dbea425e80c43f2b25d7e2fe150668e": {
          "model_module": "@jupyter-widgets/base",
          "model_name": "LayoutModel",
          "state": {
            "_view_name": "LayoutView",
            "grid_template_rows": null,
            "right": null,
            "justify_content": null,
            "_view_module": "@jupyter-widgets/base",
            "overflow": null,
            "_model_module_version": "1.2.0",
            "_view_count": null,
            "flex_flow": null,
            "width": null,
            "min_width": null,
            "border": null,
            "align_items": null,
            "bottom": null,
            "_model_module": "@jupyter-widgets/base",
            "top": null,
            "grid_column": null,
            "overflow_y": null,
            "overflow_x": null,
            "grid_auto_flow": null,
            "grid_area": null,
            "grid_template_columns": null,
            "flex": null,
            "_model_name": "LayoutModel",
            "justify_items": null,
            "grid_row": null,
            "max_height": null,
            "align_content": null,
            "visibility": null,
            "align_self": null,
            "height": null,
            "min_height": null,
            "padding": null,
            "grid_auto_rows": null,
            "grid_gap": null,
            "max_width": null,
            "order": null,
            "_view_module_version": "1.2.0",
            "grid_template_areas": null,
            "object_position": null,
            "object_fit": null,
            "grid_auto_columns": null,
            "margin": null,
            "display": null,
            "left": null
          }
        },
        "4e78ae9c4a564d6d808206c238565625": {
          "model_module": "@jupyter-widgets/controls",
          "model_name": "HBoxModel",
          "state": {
            "_view_name": "HBoxView",
            "_dom_classes": [],
            "_model_name": "HBoxModel",
            "_view_module": "@jupyter-widgets/controls",
            "_model_module_version": "1.5.0",
            "_view_count": null,
            "_view_module_version": "1.5.0",
            "box_style": "",
            "layout": "IPY_MODEL_3feeb53f0e214d89ab5b2656a9246f23",
            "_model_module": "@jupyter-widgets/controls",
            "children": [
              "IPY_MODEL_e88d3fe3ade94661935e390f79ae0e19",
              "IPY_MODEL_8d31307cec8a49aabef92550fe1357ec"
            ]
          }
        },
        "3feeb53f0e214d89ab5b2656a9246f23": {
          "model_module": "@jupyter-widgets/base",
          "model_name": "LayoutModel",
          "state": {
            "_view_name": "LayoutView",
            "grid_template_rows": null,
            "right": null,
            "justify_content": null,
            "_view_module": "@jupyter-widgets/base",
            "overflow": null,
            "_model_module_version": "1.2.0",
            "_view_count": null,
            "flex_flow": null,
            "width": null,
            "min_width": null,
            "border": null,
            "align_items": null,
            "bottom": null,
            "_model_module": "@jupyter-widgets/base",
            "top": null,
            "grid_column": null,
            "overflow_y": null,
            "overflow_x": null,
            "grid_auto_flow": null,
            "grid_area": null,
            "grid_template_columns": null,
            "flex": null,
            "_model_name": "LayoutModel",
            "justify_items": null,
            "grid_row": null,
            "max_height": null,
            "align_content": null,
            "visibility": null,
            "align_self": null,
            "height": null,
            "min_height": null,
            "padding": null,
            "grid_auto_rows": null,
            "grid_gap": null,
            "max_width": null,
            "order": null,
            "_view_module_version": "1.2.0",
            "grid_template_areas": null,
            "object_position": null,
            "object_fit": null,
            "grid_auto_columns": null,
            "margin": null,
            "display": null,
            "left": null
          }
        },
        "e88d3fe3ade94661935e390f79ae0e19": {
          "model_module": "@jupyter-widgets/controls",
          "model_name": "FloatProgressModel",
          "state": {
            "_view_name": "ProgressView",
            "style": "IPY_MODEL_f08e6270d59a492f990da73877d5c4e7",
            "_dom_classes": [],
            "description": "",
            "_model_name": "FloatProgressModel",
            "bar_style": "success",
            "max": 1,
            "_view_module": "@jupyter-widgets/controls",
            "_model_module_version": "1.5.0",
            "value": 1,
            "_view_count": null,
            "_view_module_version": "1.5.0",
            "orientation": "horizontal",
            "min": 0,
            "description_tooltip": null,
            "_model_module": "@jupyter-widgets/controls",
            "layout": "IPY_MODEL_4d5dae7ab2cf40fc90296c7e2f6b1d1c"
          }
        },
        "8d31307cec8a49aabef92550fe1357ec": {
          "model_module": "@jupyter-widgets/controls",
          "model_name": "HTMLModel",
          "state": {
            "_view_name": "HTMLView",
            "style": "IPY_MODEL_c671dd5616474b27862aa3e0db325169",
            "_dom_classes": [],
            "description": "",
            "_model_name": "HTMLModel",
            "placeholder": "​",
            "_view_module": "@jupyter-widgets/controls",
            "_model_module_version": "1.5.0",
            "value": " 32768/? [00:01&lt;00:00, 18988.81it/s]",
            "_view_count": null,
            "_view_module_version": "1.5.0",
            "description_tooltip": null,
            "_model_module": "@jupyter-widgets/controls",
            "layout": "IPY_MODEL_1aa5be5adf964f5899e5538aa27c3fde"
          }
        },
        "f08e6270d59a492f990da73877d5c4e7": {
          "model_module": "@jupyter-widgets/controls",
          "model_name": "ProgressStyleModel",
          "state": {
            "_view_name": "StyleView",
            "_model_name": "ProgressStyleModel",
            "description_width": "initial",
            "_view_module": "@jupyter-widgets/base",
            "_model_module_version": "1.5.0",
            "_view_count": null,
            "_view_module_version": "1.2.0",
            "bar_color": null,
            "_model_module": "@jupyter-widgets/controls"
          }
        },
        "4d5dae7ab2cf40fc90296c7e2f6b1d1c": {
          "model_module": "@jupyter-widgets/base",
          "model_name": "LayoutModel",
          "state": {
            "_view_name": "LayoutView",
            "grid_template_rows": null,
            "right": null,
            "justify_content": null,
            "_view_module": "@jupyter-widgets/base",
            "overflow": null,
            "_model_module_version": "1.2.0",
            "_view_count": null,
            "flex_flow": null,
            "width": null,
            "min_width": null,
            "border": null,
            "align_items": null,
            "bottom": null,
            "_model_module": "@jupyter-widgets/base",
            "top": null,
            "grid_column": null,
            "overflow_y": null,
            "overflow_x": null,
            "grid_auto_flow": null,
            "grid_area": null,
            "grid_template_columns": null,
            "flex": null,
            "_model_name": "LayoutModel",
            "justify_items": null,
            "grid_row": null,
            "max_height": null,
            "align_content": null,
            "visibility": null,
            "align_self": null,
            "height": null,
            "min_height": null,
            "padding": null,
            "grid_auto_rows": null,
            "grid_gap": null,
            "max_width": null,
            "order": null,
            "_view_module_version": "1.2.0",
            "grid_template_areas": null,
            "object_position": null,
            "object_fit": null,
            "grid_auto_columns": null,
            "margin": null,
            "display": null,
            "left": null
          }
        },
        "c671dd5616474b27862aa3e0db325169": {
          "model_module": "@jupyter-widgets/controls",
          "model_name": "DescriptionStyleModel",
          "state": {
            "_view_name": "StyleView",
            "_model_name": "DescriptionStyleModel",
            "description_width": "",
            "_view_module": "@jupyter-widgets/base",
            "_model_module_version": "1.5.0",
            "_view_count": null,
            "_view_module_version": "1.2.0",
            "_model_module": "@jupyter-widgets/controls"
          }
        },
        "1aa5be5adf964f5899e5538aa27c3fde": {
          "model_module": "@jupyter-widgets/base",
          "model_name": "LayoutModel",
          "state": {
            "_view_name": "LayoutView",
            "grid_template_rows": null,
            "right": null,
            "justify_content": null,
            "_view_module": "@jupyter-widgets/base",
            "overflow": null,
            "_model_module_version": "1.2.0",
            "_view_count": null,
            "flex_flow": null,
            "width": null,
            "min_width": null,
            "border": null,
            "align_items": null,
            "bottom": null,
            "_model_module": "@jupyter-widgets/base",
            "top": null,
            "grid_column": null,
            "overflow_y": null,
            "overflow_x": null,
            "grid_auto_flow": null,
            "grid_area": null,
            "grid_template_columns": null,
            "flex": null,
            "_model_name": "LayoutModel",
            "justify_items": null,
            "grid_row": null,
            "max_height": null,
            "align_content": null,
            "visibility": null,
            "align_self": null,
            "height": null,
            "min_height": null,
            "padding": null,
            "grid_auto_rows": null,
            "grid_gap": null,
            "max_width": null,
            "order": null,
            "_view_module_version": "1.2.0",
            "grid_template_areas": null,
            "object_position": null,
            "object_fit": null,
            "grid_auto_columns": null,
            "margin": null,
            "display": null,
            "left": null
          }
        },
        "4cda13359ead498d8647785aafda2abe": {
          "model_module": "@jupyter-widgets/controls",
          "model_name": "HBoxModel",
          "state": {
            "_view_name": "HBoxView",
            "_dom_classes": [],
            "_model_name": "HBoxModel",
            "_view_module": "@jupyter-widgets/controls",
            "_model_module_version": "1.5.0",
            "_view_count": null,
            "_view_module_version": "1.5.0",
            "box_style": "",
            "layout": "IPY_MODEL_d235cc9586734e3ab94d28345f36d495",
            "_model_module": "@jupyter-widgets/controls",
            "children": [
              "IPY_MODEL_45084b9c51924ef2816c257ad5e2fdc6",
              "IPY_MODEL_ddcf912a177d4f3caaf73aa3c9097a4e"
            ]
          }
        },
        "d235cc9586734e3ab94d28345f36d495": {
          "model_module": "@jupyter-widgets/base",
          "model_name": "LayoutModel",
          "state": {
            "_view_name": "LayoutView",
            "grid_template_rows": null,
            "right": null,
            "justify_content": null,
            "_view_module": "@jupyter-widgets/base",
            "overflow": null,
            "_model_module_version": "1.2.0",
            "_view_count": null,
            "flex_flow": null,
            "width": null,
            "min_width": null,
            "border": null,
            "align_items": null,
            "bottom": null,
            "_model_module": "@jupyter-widgets/base",
            "top": null,
            "grid_column": null,
            "overflow_y": null,
            "overflow_x": null,
            "grid_auto_flow": null,
            "grid_area": null,
            "grid_template_columns": null,
            "flex": null,
            "_model_name": "LayoutModel",
            "justify_items": null,
            "grid_row": null,
            "max_height": null,
            "align_content": null,
            "visibility": null,
            "align_self": null,
            "height": null,
            "min_height": null,
            "padding": null,
            "grid_auto_rows": null,
            "grid_gap": null,
            "max_width": null,
            "order": null,
            "_view_module_version": "1.2.0",
            "grid_template_areas": null,
            "object_position": null,
            "object_fit": null,
            "grid_auto_columns": null,
            "margin": null,
            "display": null,
            "left": null
          }
        },
        "45084b9c51924ef2816c257ad5e2fdc6": {
          "model_module": "@jupyter-widgets/controls",
          "model_name": "FloatProgressModel",
          "state": {
            "_view_name": "ProgressView",
            "style": "IPY_MODEL_24d7cf6bb15148c99197fe93b27759f3",
            "_dom_classes": [],
            "description": "",
            "_model_name": "FloatProgressModel",
            "bar_style": "success",
            "max": 1,
            "_view_module": "@jupyter-widgets/controls",
            "_model_module_version": "1.5.0",
            "value": 1,
            "_view_count": null,
            "_view_module_version": "1.5.0",
            "orientation": "horizontal",
            "min": 0,
            "description_tooltip": null,
            "_model_module": "@jupyter-widgets/controls",
            "layout": "IPY_MODEL_a7fc53785d0844a793c01cde88374033"
          }
        },
        "ddcf912a177d4f3caaf73aa3c9097a4e": {
          "model_module": "@jupyter-widgets/controls",
          "model_name": "HTMLModel",
          "state": {
            "_view_name": "HTMLView",
            "style": "IPY_MODEL_e66072ba49404d3a8ef4440aab80ee6a",
            "_dom_classes": [],
            "description": "",
            "_model_name": "HTMLModel",
            "placeholder": "​",
            "_view_module": "@jupyter-widgets/controls",
            "_model_module_version": "1.5.0",
            "value": " 4423680/? [00:01&lt;00:00, 3462446.16it/s]",
            "_view_count": null,
            "_view_module_version": "1.5.0",
            "description_tooltip": null,
            "_model_module": "@jupyter-widgets/controls",
            "layout": "IPY_MODEL_39f3b5846aa54d569845f5a6100f4da3"
          }
        },
        "24d7cf6bb15148c99197fe93b27759f3": {
          "model_module": "@jupyter-widgets/controls",
          "model_name": "ProgressStyleModel",
          "state": {
            "_view_name": "StyleView",
            "_model_name": "ProgressStyleModel",
            "description_width": "initial",
            "_view_module": "@jupyter-widgets/base",
            "_model_module_version": "1.5.0",
            "_view_count": null,
            "_view_module_version": "1.2.0",
            "bar_color": null,
            "_model_module": "@jupyter-widgets/controls"
          }
        },
        "a7fc53785d0844a793c01cde88374033": {
          "model_module": "@jupyter-widgets/base",
          "model_name": "LayoutModel",
          "state": {
            "_view_name": "LayoutView",
            "grid_template_rows": null,
            "right": null,
            "justify_content": null,
            "_view_module": "@jupyter-widgets/base",
            "overflow": null,
            "_model_module_version": "1.2.0",
            "_view_count": null,
            "flex_flow": null,
            "width": null,
            "min_width": null,
            "border": null,
            "align_items": null,
            "bottom": null,
            "_model_module": "@jupyter-widgets/base",
            "top": null,
            "grid_column": null,
            "overflow_y": null,
            "overflow_x": null,
            "grid_auto_flow": null,
            "grid_area": null,
            "grid_template_columns": null,
            "flex": null,
            "_model_name": "LayoutModel",
            "justify_items": null,
            "grid_row": null,
            "max_height": null,
            "align_content": null,
            "visibility": null,
            "align_self": null,
            "height": null,
            "min_height": null,
            "padding": null,
            "grid_auto_rows": null,
            "grid_gap": null,
            "max_width": null,
            "order": null,
            "_view_module_version": "1.2.0",
            "grid_template_areas": null,
            "object_position": null,
            "object_fit": null,
            "grid_auto_columns": null,
            "margin": null,
            "display": null,
            "left": null
          }
        },
        "e66072ba49404d3a8ef4440aab80ee6a": {
          "model_module": "@jupyter-widgets/controls",
          "model_name": "DescriptionStyleModel",
          "state": {
            "_view_name": "StyleView",
            "_model_name": "DescriptionStyleModel",
            "description_width": "",
            "_view_module": "@jupyter-widgets/base",
            "_model_module_version": "1.5.0",
            "_view_count": null,
            "_view_module_version": "1.2.0",
            "_model_module": "@jupyter-widgets/controls"
          }
        },
        "39f3b5846aa54d569845f5a6100f4da3": {
          "model_module": "@jupyter-widgets/base",
          "model_name": "LayoutModel",
          "state": {
            "_view_name": "LayoutView",
            "grid_template_rows": null,
            "right": null,
            "justify_content": null,
            "_view_module": "@jupyter-widgets/base",
            "overflow": null,
            "_model_module_version": "1.2.0",
            "_view_count": null,
            "flex_flow": null,
            "width": null,
            "min_width": null,
            "border": null,
            "align_items": null,
            "bottom": null,
            "_model_module": "@jupyter-widgets/base",
            "top": null,
            "grid_column": null,
            "overflow_y": null,
            "overflow_x": null,
            "grid_auto_flow": null,
            "grid_area": null,
            "grid_template_columns": null,
            "flex": null,
            "_model_name": "LayoutModel",
            "justify_items": null,
            "grid_row": null,
            "max_height": null,
            "align_content": null,
            "visibility": null,
            "align_self": null,
            "height": null,
            "min_height": null,
            "padding": null,
            "grid_auto_rows": null,
            "grid_gap": null,
            "max_width": null,
            "order": null,
            "_view_module_version": "1.2.0",
            "grid_template_areas": null,
            "object_position": null,
            "object_fit": null,
            "grid_auto_columns": null,
            "margin": null,
            "display": null,
            "left": null
          }
        },
        "04f8a442fd814f50a211017807671b69": {
          "model_module": "@jupyter-widgets/controls",
          "model_name": "HBoxModel",
          "state": {
            "_view_name": "HBoxView",
            "_dom_classes": [],
            "_model_name": "HBoxModel",
            "_view_module": "@jupyter-widgets/controls",
            "_model_module_version": "1.5.0",
            "_view_count": null,
            "_view_module_version": "1.5.0",
            "box_style": "",
            "layout": "IPY_MODEL_a872795d05494c5f950f4ed5a8280431",
            "_model_module": "@jupyter-widgets/controls",
            "children": [
              "IPY_MODEL_1e844fe54f034b85bcab9389905bbd0a",
              "IPY_MODEL_ff357dc15ff2422f8f0520fba3bfd897"
            ]
          }
        },
        "a872795d05494c5f950f4ed5a8280431": {
          "model_module": "@jupyter-widgets/base",
          "model_name": "LayoutModel",
          "state": {
            "_view_name": "LayoutView",
            "grid_template_rows": null,
            "right": null,
            "justify_content": null,
            "_view_module": "@jupyter-widgets/base",
            "overflow": null,
            "_model_module_version": "1.2.0",
            "_view_count": null,
            "flex_flow": null,
            "width": null,
            "min_width": null,
            "border": null,
            "align_items": null,
            "bottom": null,
            "_model_module": "@jupyter-widgets/base",
            "top": null,
            "grid_column": null,
            "overflow_y": null,
            "overflow_x": null,
            "grid_auto_flow": null,
            "grid_area": null,
            "grid_template_columns": null,
            "flex": null,
            "_model_name": "LayoutModel",
            "justify_items": null,
            "grid_row": null,
            "max_height": null,
            "align_content": null,
            "visibility": null,
            "align_self": null,
            "height": null,
            "min_height": null,
            "padding": null,
            "grid_auto_rows": null,
            "grid_gap": null,
            "max_width": null,
            "order": null,
            "_view_module_version": "1.2.0",
            "grid_template_areas": null,
            "object_position": null,
            "object_fit": null,
            "grid_auto_columns": null,
            "margin": null,
            "display": null,
            "left": null
          }
        },
        "1e844fe54f034b85bcab9389905bbd0a": {
          "model_module": "@jupyter-widgets/controls",
          "model_name": "FloatProgressModel",
          "state": {
            "_view_name": "ProgressView",
            "style": "IPY_MODEL_950561a4de6c42839ebd863f1cc7d233",
            "_dom_classes": [],
            "description": "  0%",
            "_model_name": "FloatProgressModel",
            "bar_style": "info",
            "max": 1,
            "_view_module": "@jupyter-widgets/controls",
            "_model_module_version": "1.5.0",
            "value": 0,
            "_view_count": null,
            "_view_module_version": "1.5.0",
            "orientation": "horizontal",
            "min": 0,
            "description_tooltip": null,
            "_model_module": "@jupyter-widgets/controls",
            "layout": "IPY_MODEL_b27127c310494cb99d3b0661769d1203"
          }
        },
        "ff357dc15ff2422f8f0520fba3bfd897": {
          "model_module": "@jupyter-widgets/controls",
          "model_name": "HTMLModel",
          "state": {
            "_view_name": "HTMLView",
            "style": "IPY_MODEL_ff9c103ada5c46569d4695648f6fe3ee",
            "_dom_classes": [],
            "description": "",
            "_model_name": "HTMLModel",
            "placeholder": "​",
            "_view_module": "@jupyter-widgets/controls",
            "_model_module_version": "1.5.0",
            "value": " 0/5148 [00:00&lt;?, ?it/s]",
            "_view_count": null,
            "_view_module_version": "1.5.0",
            "description_tooltip": null,
            "_model_module": "@jupyter-widgets/controls",
            "layout": "IPY_MODEL_d569808a4a724c53851500d783b2bbf0"
          }
        },
        "950561a4de6c42839ebd863f1cc7d233": {
          "model_module": "@jupyter-widgets/controls",
          "model_name": "ProgressStyleModel",
          "state": {
            "_view_name": "StyleView",
            "_model_name": "ProgressStyleModel",
            "description_width": "initial",
            "_view_module": "@jupyter-widgets/base",
            "_model_module_version": "1.5.0",
            "_view_count": null,
            "_view_module_version": "1.2.0",
            "bar_color": null,
            "_model_module": "@jupyter-widgets/controls"
          }
        },
        "b27127c310494cb99d3b0661769d1203": {
          "model_module": "@jupyter-widgets/base",
          "model_name": "LayoutModel",
          "state": {
            "_view_name": "LayoutView",
            "grid_template_rows": null,
            "right": null,
            "justify_content": null,
            "_view_module": "@jupyter-widgets/base",
            "overflow": null,
            "_model_module_version": "1.2.0",
            "_view_count": null,
            "flex_flow": null,
            "width": null,
            "min_width": null,
            "border": null,
            "align_items": null,
            "bottom": null,
            "_model_module": "@jupyter-widgets/base",
            "top": null,
            "grid_column": null,
            "overflow_y": null,
            "overflow_x": null,
            "grid_auto_flow": null,
            "grid_area": null,
            "grid_template_columns": null,
            "flex": null,
            "_model_name": "LayoutModel",
            "justify_items": null,
            "grid_row": null,
            "max_height": null,
            "align_content": null,
            "visibility": null,
            "align_self": null,
            "height": null,
            "min_height": null,
            "padding": null,
            "grid_auto_rows": null,
            "grid_gap": null,
            "max_width": null,
            "order": null,
            "_view_module_version": "1.2.0",
            "grid_template_areas": null,
            "object_position": null,
            "object_fit": null,
            "grid_auto_columns": null,
            "margin": null,
            "display": null,
            "left": null
          }
        },
        "ff9c103ada5c46569d4695648f6fe3ee": {
          "model_module": "@jupyter-widgets/controls",
          "model_name": "DescriptionStyleModel",
          "state": {
            "_view_name": "StyleView",
            "_model_name": "DescriptionStyleModel",
            "description_width": "",
            "_view_module": "@jupyter-widgets/base",
            "_model_module_version": "1.5.0",
            "_view_count": null,
            "_view_module_version": "1.2.0",
            "_model_module": "@jupyter-widgets/controls"
          }
        },
        "d569808a4a724c53851500d783b2bbf0": {
          "model_module": "@jupyter-widgets/base",
          "model_name": "LayoutModel",
          "state": {
            "_view_name": "LayoutView",
            "grid_template_rows": null,
            "right": null,
            "justify_content": null,
            "_view_module": "@jupyter-widgets/base",
            "overflow": null,
            "_model_module_version": "1.2.0",
            "_view_count": null,
            "flex_flow": null,
            "width": null,
            "min_width": null,
            "border": null,
            "align_items": null,
            "bottom": null,
            "_model_module": "@jupyter-widgets/base",
            "top": null,
            "grid_column": null,
            "overflow_y": null,
            "overflow_x": null,
            "grid_auto_flow": null,
            "grid_area": null,
            "grid_template_columns": null,
            "flex": null,
            "_model_name": "LayoutModel",
            "justify_items": null,
            "grid_row": null,
            "max_height": null,
            "align_content": null,
            "visibility": null,
            "align_self": null,
            "height": null,
            "min_height": null,
            "padding": null,
            "grid_auto_rows": null,
            "grid_gap": null,
            "max_width": null,
            "order": null,
            "_view_module_version": "1.2.0",
            "grid_template_areas": null,
            "object_position": null,
            "object_fit": null,
            "grid_auto_columns": null,
            "margin": null,
            "display": null,
            "left": null
          }
        }
      }
    }
  },
  "cells": [
    {
      "cell_type": "markdown",
      "metadata": {
        "id": "view-in-github",
        "colab_type": "text"
      },
      "source": [
        "<a href=\"https://colab.research.google.com/github/JonathanLooman/Fashion_MNIST_Pytorch/blob/main/JonathanLoomanFashionMNIST.ipynb\" target=\"_parent\"><img src=\"https://colab.research.google.com/assets/colab-badge.svg\" alt=\"Open In Colab\"/></a>"
      ]
    },
    {
      "cell_type": "markdown",
      "metadata": {
        "id": "dUpWmJFsTZHL"
      },
      "source": [
        "# Data modeling of Fashion MNIST\n",
        "By: Jonathan Looman \\\\\n",
        "The project is split up as follows: \\\\\n",
        "1) References \\\\\n",
        "2) Importing packages and Data and check for uniform distribution \\\\\n",
        "3) Model construction code \\\\\n",
        "4) Train and Validate Model code \\\\\n",
        "5) Analysis excecution\n",
        "\n",
        "\n",
        "\n",
        "\n"
      ]
    },
    {
      "cell_type": "markdown",
      "metadata": {
        "id": "o0EfGy63GZqR"
      },
      "source": [
        "## Stage 1: References\n",
        "\n",
        "[1] Pytorch documentation <br>\n",
        "[2] DeepLizard Neural Network Deeplearning with Pytorch video series, avaliable at: https://www.youtube.com/watch?v=v5cngxo4mIg&list=PLZbbT5o_s2xrfNyHZsM6ufI0iZENK9xgG&ab_channel=deeplizard <br>\n",
        "[3] Convolutional Neural Networks Tutorial in PyTorch by adam, available at: https://adventuresinmachinelearning.com/convolutional-neural-networks-tutorial-in-pytorch/ <br>\n",
        "[4] stack overflow article on splitting training dataloader for validation, avalilabe at: https://stackoverflow.com/questions/50207001/pytorch-add-validation-error-in-training"
      ]
    },
    {
      "cell_type": "markdown",
      "metadata": {
        "id": "E2V2bJUhUtKU"
      },
      "source": [
        "## Stage 1: Import and prepare data\n",
        "1.1) Import packages \\\\\n",
        "1.1) Build data loader and retreve data from Torchvision \\\\\n",
        "1.2) Inspect data distribution between classes\n"
      ]
    },
    {
      "cell_type": "code",
      "metadata": {
        "id": "T6NCD1BkTUdW",
        "colab": {
          "base_uri": "https://localhost:8080/",
          "height": 34
        },
        "outputId": "51c482d2-f78e-427a-f5d5-49301be9f090"
      },
      "source": [
        "# 1.1) Import requisit packages\n",
        "\n",
        "import torch\n",
        "import torch.nn as nn\n",
        "import torch.nn.functional as F\n",
        "import torch.optim as optim\n",
        "\n",
        "#Torchvision was used to load the dataset\n",
        "import torchvision\n",
        "import torchvision.transforms as transforms\n",
        "from torch.utils.data.sampler import SubsetRandomSampler\n",
        "\n",
        "# matplotlib and numpy were used to plot the graph only\n",
        "import matplotlib.pyplot as plt\n",
        "import numpy as np\n",
        "\n",
        "\n",
        "torch.set_printoptions(linewidth = 120)\n",
        "torch.set_grad_enabled(True)"
      ],
      "execution_count": null,
      "outputs": [
        {
          "output_type": "execute_result",
          "data": {
            "text/plain": [
              "<torch.autograd.grad_mode.set_grad_enabled at 0x7ffa5f2640f0>"
            ]
          },
          "metadata": {
            "tags": []
          },
          "execution_count": 1
        }
      ]
    },
    {
      "cell_type": "code",
      "metadata": {
        "id": "-zphDoZQUbgM",
        "colab": {
          "base_uri": "https://localhost:8080/",
          "height": 403,
          "referenced_widgets": [
            "47f6e266bdd94a8c802e549ebbe83e01",
            "517db25ce35e484fa283fa66e954f1a5",
            "6ee6f66bf6ab4fbaae50150d5a008438",
            "c866cf65a76f4e5382afd01ffffeca74",
            "004bdca9045e4288b46999029732c143",
            "8ea6aa5e0dc344ba96b62473ae9a224c",
            "3f0c1b2383644755a830cbd67072cfa4",
            "4dbea425e80c43f2b25d7e2fe150668e",
            "4e78ae9c4a564d6d808206c238565625",
            "3feeb53f0e214d89ab5b2656a9246f23",
            "e88d3fe3ade94661935e390f79ae0e19",
            "8d31307cec8a49aabef92550fe1357ec",
            "f08e6270d59a492f990da73877d5c4e7",
            "4d5dae7ab2cf40fc90296c7e2f6b1d1c",
            "c671dd5616474b27862aa3e0db325169",
            "1aa5be5adf964f5899e5538aa27c3fde",
            "4cda13359ead498d8647785aafda2abe",
            "d235cc9586734e3ab94d28345f36d495",
            "45084b9c51924ef2816c257ad5e2fdc6",
            "ddcf912a177d4f3caaf73aa3c9097a4e",
            "24d7cf6bb15148c99197fe93b27759f3",
            "a7fc53785d0844a793c01cde88374033",
            "e66072ba49404d3a8ef4440aab80ee6a",
            "39f3b5846aa54d569845f5a6100f4da3",
            "04f8a442fd814f50a211017807671b69",
            "a872795d05494c5f950f4ed5a8280431",
            "1e844fe54f034b85bcab9389905bbd0a",
            "ff357dc15ff2422f8f0520fba3bfd897",
            "950561a4de6c42839ebd863f1cc7d233",
            "b27127c310494cb99d3b0661769d1203",
            "ff9c103ada5c46569d4695648f6fe3ee",
            "d569808a4a724c53851500d783b2bbf0"
          ]
        },
        "outputId": "ec14c4ae-a436-414c-d905-d16e0c7806bc"
      },
      "source": [
        "#1.2) Build data loader and retreve data from Torchvision [2]\n",
        "train_set = torchvision.datasets.FashionMNIST(\n",
        "    root = './data/FashionMNIST',\n",
        "    train = True,\n",
        "    download=True,#download if not already on disk\n",
        "    transform = transforms.Compose([transforms.ToTensor()\n",
        "                                    ])#transform data into tensors\n",
        ")\n",
        "train_loader = torch.utils.data.DataLoader(\n",
        "    train_set, batch_size = 64, shuffle=True)"
      ],
      "execution_count": null,
      "outputs": [
        {
          "output_type": "stream",
          "text": [
            "Downloading http://fashion-mnist.s3-website.eu-central-1.amazonaws.com/train-images-idx3-ubyte.gz to ./data/FashionMNIST/FashionMNIST/raw/train-images-idx3-ubyte.gz\n"
          ],
          "name": "stdout"
        },
        {
          "output_type": "display_data",
          "data": {
            "application/vnd.jupyter.widget-view+json": {
              "model_id": "47f6e266bdd94a8c802e549ebbe83e01",
              "version_minor": 0,
              "version_major": 2
            },
            "text/plain": [
              "HBox(children=(FloatProgress(value=1.0, bar_style='info', max=1.0), HTML(value='')))"
            ]
          },
          "metadata": {
            "tags": []
          }
        },
        {
          "output_type": "stream",
          "text": [
            "Extracting ./data/FashionMNIST/FashionMNIST/raw/train-images-idx3-ubyte.gz to ./data/FashionMNIST/FashionMNIST/raw\n",
            "Downloading http://fashion-mnist.s3-website.eu-central-1.amazonaws.com/train-labels-idx1-ubyte.gz to ./data/FashionMNIST/FashionMNIST/raw/train-labels-idx1-ubyte.gz\n"
          ],
          "name": "stdout"
        },
        {
          "output_type": "display_data",
          "data": {
            "application/vnd.jupyter.widget-view+json": {
              "model_id": "4e78ae9c4a564d6d808206c238565625",
              "version_minor": 0,
              "version_major": 2
            },
            "text/plain": [
              "HBox(children=(FloatProgress(value=1.0, bar_style='info', max=1.0), HTML(value='')))"
            ]
          },
          "metadata": {
            "tags": []
          }
        },
        {
          "output_type": "stream",
          "text": [
            "Extracting ./data/FashionMNIST/FashionMNIST/raw/train-labels-idx1-ubyte.gz to ./data/FashionMNIST/FashionMNIST/raw\n",
            "Downloading http://fashion-mnist.s3-website.eu-central-1.amazonaws.com/t10k-images-idx3-ubyte.gz to ./data/FashionMNIST/FashionMNIST/raw/t10k-images-idx3-ubyte.gz\n"
          ],
          "name": "stdout"
        },
        {
          "output_type": "display_data",
          "data": {
            "application/vnd.jupyter.widget-view+json": {
              "model_id": "4cda13359ead498d8647785aafda2abe",
              "version_minor": 0,
              "version_major": 2
            },
            "text/plain": [
              "HBox(children=(FloatProgress(value=1.0, bar_style='info', max=1.0), HTML(value='')))"
            ]
          },
          "metadata": {
            "tags": []
          }
        },
        {
          "output_type": "stream",
          "text": [
            "Extracting ./data/FashionMNIST/FashionMNIST/raw/t10k-images-idx3-ubyte.gz to ./data/FashionMNIST/FashionMNIST/raw\n",
            "Downloading http://fashion-mnist.s3-website.eu-central-1.amazonaws.com/t10k-labels-idx1-ubyte.gz to ./data/FashionMNIST/FashionMNIST/raw/t10k-labels-idx1-ubyte.gz\n",
            "\n",
            "\n"
          ],
          "name": "stdout"
        },
        {
          "output_type": "display_data",
          "data": {
            "application/vnd.jupyter.widget-view+json": {
              "model_id": "04f8a442fd814f50a211017807671b69",
              "version_minor": 0,
              "version_major": 2
            },
            "text/plain": [
              "HBox(children=(FloatProgress(value=1.0, bar_style='info', max=1.0), HTML(value='')))"
            ]
          },
          "metadata": {
            "tags": []
          }
        },
        {
          "output_type": "stream",
          "text": [
            "Extracting ./data/FashionMNIST/FashionMNIST/raw/t10k-labels-idx1-ubyte.gz to ./data/FashionMNIST/FashionMNIST/raw\n",
            "Processing...\n",
            "Done!\n"
          ],
          "name": "stdout"
        },
        {
          "output_type": "stream",
          "text": [
            "/usr/local/lib/python3.6/dist-packages/torchvision/datasets/mnist.py:469: UserWarning: The given NumPy array is not writeable, and PyTorch does not support non-writeable tensors. This means you can write to the underlying (supposedly non-writeable) NumPy array using the tensor. You may want to copy the array to protect its data or make it writeable before converting it to a tensor. This type of warning will be suppressed for the rest of this program. (Triggered internally at  /pytorch/torch/csrc/utils/tensor_numpy.cpp:141.)\n",
            "  return torch.from_numpy(parsed.astype(m[2], copy=False)).view(*s)\n"
          ],
          "name": "stderr"
        }
      ]
    },
    {
      "cell_type": "code",
      "metadata": {
        "id": "J94ecxgZehKt"
      },
      "source": [
        "#1.2) Build data loader and retreve data from Torchvision [2]\n",
        "test_set = torchvision.datasets.FashionMNIST(\n",
        "    root = './data/FashionMNIST',\n",
        "    train = False,\n",
        "    download=True,#download if not already on disk\n",
        "    transform = transforms.Compose([transforms.ToTensor()\n",
        "                                    ])#transform data into tensors\n",
        ")\n",
        "test_loader = torch.utils.data.DataLoader(\n",
        "    test_set, batch_size = 64)"
      ],
      "execution_count": null,
      "outputs": []
    },
    {
      "cell_type": "code",
      "metadata": {
        "id": "QXJi3KOkVHmB",
        "colab": {
          "base_uri": "https://localhost:8080/",
          "height": 68
        },
        "outputId": "fd3ae60a-a6c8-485e-c99a-73610b799c73"
      },
      "source": [
        "#1.3) Inspect data distribution between classes\n",
        "train_set.train_labels.bincount()"
      ],
      "execution_count": null,
      "outputs": [
        {
          "output_type": "stream",
          "text": [
            "/usr/local/lib/python3.6/dist-packages/torchvision/datasets/mnist.py:45: UserWarning: train_labels has been renamed targets\n",
            "  warnings.warn(\"train_labels has been renamed targets\")\n"
          ],
          "name": "stderr"
        },
        {
          "output_type": "execute_result",
          "data": {
            "text/plain": [
              "tensor([6000, 6000, 6000, 6000, 6000, 6000, 6000, 6000, 6000, 6000])"
            ]
          },
          "metadata": {
            "tags": []
          },
          "execution_count": 4
        }
      ]
    },
    {
      "cell_type": "code",
      "metadata": {
        "id": "rp-y5FJIkRKI"
      },
      "source": [
        "#1.4) Split into training and validation datasets\n",
        "val_split = 0.2\n",
        "\n",
        "dataset_len = len(train_set)\n",
        "indices = list(range(dataset_len))"
      ],
      "execution_count": null,
      "outputs": []
    },
    {
      "cell_type": "code",
      "metadata": {
        "id": "cIV0dLRnpuqo"
      },
      "source": [
        "# Randomly splitting indices: [4]\n",
        "val_len = int(np.floor(val_split * dataset_len))\n",
        "validation_idx = np.random.choice(indices, size=val_len, replace=False)\n",
        "train_idx = list(set(indices) - set(validation_idx))\n"
      ],
      "execution_count": null,
      "outputs": []
    },
    {
      "cell_type": "code",
      "metadata": {
        "id": "qbnH5OOqki88"
      },
      "source": [
        "train_sampler = SubsetRandomSampler(train_idx) #[4]\n",
        "validation_sampler = SubsetRandomSampler(validation_idx)"
      ],
      "execution_count": null,
      "outputs": []
    },
    {
      "cell_type": "code",
      "metadata": {
        "id": "62LIJ2vulBMb"
      },
      "source": [
        "train_loader = torch.utils.data.DataLoader(train_set, batch_size = 64, sampler=train_sampler, num_workers = 2)\n",
        "validation_loader = torch.utils.data.DataLoader(train_set,batch_size = 64, sampler=validation_sampler, num_workers = 2)\n",
        "#[4]"
      ],
      "execution_count": null,
      "outputs": []
    },
    {
      "cell_type": "markdown",
      "metadata": {
        "id": "tQsoQmjMWDo-"
      },
      "source": [
        "## Stage 2: Building the Convolutional Neural Network\n"
      ]
    },
    {
      "cell_type": "code",
      "metadata": {
        "id": "lt60ZtbPV7Rw"
      },
      "source": [
        "class Network(nn.Module):\n",
        "  '''\n",
        "  Network class holds initialisation function as well as the forward function.\n",
        "  To simplify the code, only layers will be initialised and layer operations\n",
        "  (activation functions and pooling operations) are moved to the \n",
        "  forward function.\n",
        "\n",
        "  args: nn.Module to extend the pytorch module.\n",
        "\n",
        "  return: None\n",
        "\n",
        "  reference: [2]\n",
        "  '''\n",
        "  def __init__(self ):\n",
        "      '''\n",
        "\n",
        "      '''\n",
        "      super().__init__()\n",
        "      self.conv1 = nn.Conv2d(\n",
        "          in_channels=1, \n",
        "          out_channels=16, \n",
        "          kernel_size=(3,3)\n",
        "          )\n",
        "      \n",
        "      self.conv2 = nn.Conv2d(\n",
        "          in_channels=16,\n",
        "           out_channels=32,\n",
        "            kernel_size=(3,3)\n",
        "            )\n",
        "      \n",
        "      #Due to pooling the 28 by 28 gray scale image is now effectively 14 by 14\n",
        "      self.fc1 = nn.Linear(in_features=32 * 12 * 12, out_features=128)\n",
        "      self.out = nn.Linear(in_features=128, out_features=10)\n",
        "  \n",
        "  \n",
        "  def forward(self, arg, drop_out_p):\n",
        "      arg = arg\n",
        "      # first hidden conv layer\n",
        "      arg1 = self.conv1(arg)\n",
        "      arg1 = F.relu(arg1)\n",
        "        \n",
        "\n",
        "      # second hidden conv layer\n",
        "      arg1 = self.conv2(arg1)\n",
        "      arg1 = F.relu(arg1)\n",
        "      arg1 = F.max_pool2d(arg1, \n",
        "                          kernel_size=(2,2), \n",
        "                          stride=2)\n",
        "                          #stride moves the image by two and effectively \n",
        "                          #downsamples by 2\n",
        "\n",
        "      # first fully connected layer \n",
        "      arg1 = arg1.reshape(-1,32 *12*12)# -1 allows the input of any size batch \n",
        "      arg1 = self.fc1(arg1)\n",
        "      arg1 = F.relu(arg1)\n",
        "      arg1 = F.dropout(arg1, p=drop_out_p)\n",
        "\n",
        "      # output layer\n",
        "      arg1 = self.out(arg1)\n",
        "      arg1 = F.softmax(arg1, dim=1)\n",
        "\n",
        "      return arg1\n"
      ],
      "execution_count": null,
      "outputs": []
    },
    {
      "cell_type": "markdown",
      "metadata": {
        "id": "6HAkWaqVWumV"
      },
      "source": [
        "## Stage 3: Train and Validate Model"
      ]
    },
    {
      "cell_type": "code",
      "metadata": {
        "id": "1yPfdOj3OLOA"
      },
      "source": [
        "# initialising logger\n",
        "import logging\n",
        "# Create and configure logger\n",
        "LOG_FORMAT = \"%(message)s\"\n",
        "logging.basicConfig(filename = \n",
        "                    \"Training_loss_ and_val_accuracy_loss.log\",\n",
        "                    level = logging.DEBUG,\n",
        "                    format = LOG_FORMAT,\n",
        "                    filemode = 'a'\n",
        "                    )\n",
        "logger = logging.getLogger()"
      ],
      "execution_count": null,
      "outputs": []
    },
    {
      "cell_type": "code",
      "metadata": {
        "id": "rEpVf0ahWLus"
      },
      "source": [
        "def train_network(drop_out_p = 0.2):\n",
        "  '''\n",
        "  Method to train and validate the model \n",
        "  '''\n",
        "  torch.set_grad_enabled(True)\n",
        "  accuracy_list, loss_list = [], []\n",
        "\n",
        "  \n",
        "  network = Network().cuda() #Move network to GPU\n",
        "\n",
        "  #train_loader = torch.utils.data.DataLoader(train_set, batch_size=68)\n",
        "  optimizer = optim.Adam(network.parameters(), lr=0.01) \n",
        "\n",
        "  for epoch in range(10):\n",
        "    total_loss = 0\n",
        "    total_correct = 0\n",
        "\n",
        "    for images, labels in train_loader: # Get Batch\n",
        "        images, labels = images.cuda(), labels.cuda()\n",
        "        \n",
        "        preds = network(images, drop_out_p) # Pass data and the dropout_price\n",
        "        loss = F.cross_entropy(preds, labels) # Calculate Loss\n",
        "\n",
        "        optimizer.zero_grad()\n",
        "        loss.backward() # Calculate Gradients\n",
        "        optimizer.step() # Update Weights\n",
        "\n",
        "        total_loss += loss.item()\n",
        "        total_correct += preds.argmax(dim=1).eq(labels).sum()\n",
        "\n",
        "      \n",
        "    percentage_correct = (total_correct.true_divide(len(train_set)*0.8)).item()\n",
        "    \n",
        "    accuracy_list.append(percentage_correct)\n",
        "    loss_list.append(total_loss)\n",
        "    \n",
        "    validation_loss, validation_accuracy = validate_network(network, drop_out_p)\n",
        "    logger.info(f\"Dropout rate {drop_out_p} Epoch: {epoch} \")\n",
        "    logger.info(f\"Training Loss {loss_list}\")\n",
        "    logger.info(f\"Validation Accuracy {validation_accuracy} \")\n",
        "    logger.info(f\"validation loss {validation_loss}\")\n",
        "    \n",
        "  return loss_list, validation_loss, validation_accuracy, network\n"
      ],
      "execution_count": null,
      "outputs": []
    },
    {
      "cell_type": "code",
      "metadata": {
        "id": "3-BgiX0crMSK"
      },
      "source": [
        "def validate_network(network, drop_out_p):\n",
        "  network.eval()\n",
        "  torch.set_grad_enabled(True)\n",
        "  total_correct_val = 0\n",
        "  total_loss_val = 0\n",
        "  for images, labels in validation_loader:\n",
        "    images, labels = images.cuda(), labels.cuda()\n",
        "    predictions = network(images,drop_out_p = 0.2)\n",
        "    loss = F.cross_entropy(predictions, labels)\n",
        "    total_loss_val += loss.item()\n",
        "    total_correct_val += predictions.argmax(dim=1).eq(labels).sum()\n",
        "  return total_loss_val, total_correct_val.true_divide(len(train_set)*0.2).item()"
      ],
      "execution_count": null,
      "outputs": []
    },
    {
      "cell_type": "markdown",
      "metadata": {
        "id": "LzOzuyjgGDUi"
      },
      "source": [
        "## Stage 4: Performing analysis"
      ]
    },
    {
      "cell_type": "code",
      "metadata": {
        "id": "ZvSxvlSyi1Fl"
      },
      "source": [
        "def Test_network(network, drop_out_p):\n",
        "  '''\n",
        "  Makes predictions of the class and returns the per cent \n",
        "  of correct predictions\n",
        "  '''\n",
        "  network.eval()\n",
        "  torch.set_grad_enabled(True)\n",
        "  total_correct_test = 0\n",
        "  total_loss_test = 0\n",
        "  for images, labels in test_loader:\n",
        "    images, labels = images.cuda(), labels.cuda()\n",
        "    predictions = network(images,drop_out_p = drop_out_p)\n",
        "    loss = F.cross_entropy(predictions, labels)\n",
        "    total_loss_test += loss.item()\n",
        "    total_correct_test += predictions.argmax(dim=1).eq(labels).sum()\n",
        "  return total_correct_test.true_divide(len(test_set)).item()"
      ],
      "execution_count": null,
      "outputs": []
    },
    {
      "cell_type": "code",
      "metadata": {
        "id": "qHtFUZ5nsk5H"
      },
      "source": [
        "def Analysis(list_of_dropout_p):\n",
        "  '''\n",
        "  This method returns the list of dropout rates and\n",
        "  a list of their accuracy when tested on the testing set.\n",
        "  '''\n",
        "  \n",
        "  list_of_results = []\n",
        "  \n",
        "  for dropout_p in list_of_dropout_p:\n",
        "    loss_list, validation_loss, validation_accuracy, network = train_network(\n",
        "        drop_out_p = dropout_p)\n",
        "\n",
        "  \n",
        "    list_of_results.append((Test_network(\n",
        "        network = network, drop_out_p = dropout_p)))\n",
        "    \n",
        "  return list_of_dropout_p, list_of_results\n"
      ],
      "execution_count": null,
      "outputs": []
    },
    {
      "cell_type": "code",
      "metadata": {
        "id": "LGPjwUhl7lzN"
      },
      "source": [
        "def predict5(test_set, best_net): \n",
        "  '''\n",
        "  This method will load five random clothing items from the test dataset\n",
        "  and make predictions of which item of clothing it is.\n",
        "  '''\n",
        "  \n",
        "  \n",
        "  \n",
        "  \n",
        "  clothing_dict = {0:'T-shirt/top',\n",
        "                 1:'Trouser',\n",
        "                 2:'Pullover',\n",
        "                 3:'Dress',\n",
        "                 4:'Coat',\n",
        "                 5:'Sandal',\n",
        "                 6:'Shirt',\n",
        "                 7:'Sneaker',\n",
        "                 8:'Bag',\n",
        "                 9:'Ankle boot'\n",
        "                 }\n",
        "  random_test_loader = torch.utils.data.DataLoader(\n",
        "      test_set, batch_size = 5, shuffle=True)\n",
        "  batch = next(iter(random_test_loader))\n",
        "  images, labels = batch\n",
        "  plt.figure(figsize = (15,15))\n",
        "  grid = torchvision.utils.make_grid(images, nrow=15)\n",
        "  plt.imshow(np.transpose(grid, (1,2,0)))\n",
        "  images, labels = images.cuda(), labels.cuda()\n",
        "  best_net.eval()\n",
        "  torch.set_grad_enabled(False)\n",
        "  preds = best_net(images, drop_out_p = 0.0)\n",
        "\n",
        "  \n",
        "  true_class, pred_class = [], []\n",
        "  \n",
        "  for l in labels:\n",
        "    true_class.append(clothing_dict[l.item()])\n",
        "  for p in preds.argmax(dim=1):\n",
        "    pred_class.append(clothing_dict[p.item()])\n",
        "  print('labels:      ', true_class)\n",
        "  print('predictions: ',pred_class\n",
        "        )"
      ],
      "execution_count": null,
      "outputs": []
    },
    {
      "cell_type": "markdown",
      "metadata": {
        "id": "srUNQMT6FOP3"
      },
      "source": [
        "# Stage 4: Run Analysis\n",
        "Choices:\n",
        "Adam optimiser and cross entropy loss function were used as they have perviously worked well in the past."
      ]
    },
    {
      "cell_type": "code",
      "metadata": {
        "id": "JfaVsttdFKFI",
        "colab": {
          "base_uri": "https://localhost:8080/",
          "height": 333
        },
        "outputId": "4def80d2-c6f3-4e82-dba3-96b431ce2c82"
      },
      "source": [
        "list_of_dropout_p = [0.0, 0.5, 0.7, 0.9, 0.99, 0.999]\n",
        "list_of_dropout_p, list_of_results = Analysis(list_of_dropout_p)\n",
        "print('Best Dropout: ', list_of_dropout_p[np.argmax(list_of_results)])\n",
        "print('Dropout Rates')\n",
        "plt.plot(list_of_dropout_p, list_of_results)\n",
        "plt.show()\n",
        "#training network with best dropout rate\n",
        "loss_list, validation_loss, validation_accuracy, network = train_network(\n",
        "    drop_out_p = list_of_dropout_p[np.argmax(list_of_results)])\n",
        "\n",
        "predict5(test_set, network)"
      ],
      "execution_count": null,
      "outputs": [
        {
          "output_type": "stream",
          "text": [
            "Best Dropout:  0.5\n",
            "Dropout Rates\n"
          ],
          "name": "stdout"
        },
        {
          "output_type": "display_data",
          "data": {
            "image/png": "[encoded data removed]",
            "text/plain": [
              "<Figure size 432x288 with 1 Axes>"
            ]
          },
          "metadata": {
            "tags": [],
            "needs_background": "light"
          }
        },
        {
          "output_type": "stream",
          "text": [
            "labels:       ['Trouser', 'Shirt', 'Dress', 'Coat', 'Trouser']\n",
            "predictions:  ['Trouser', 'Pullover', 'Dress', 'Pullover', 'Trouser']\n"
          ],
          "name": "stdout"
        },
        {
          "output_type": "display_data",
          "data": {
            "image/png": "[encoded data removed]",
            "text/plain": [
              "<Figure size 1080x1080 with 1 Axes>"
            ]
          },
          "metadata": {
            "tags": [],
            "needs_background": "light"
          }
        }
      ]
    },
    {
      "cell_type": "code",
      "metadata": {
        "id": "aFN3XwEhEBpq"
      },
      "source": [
        ""
      ],
      "execution_count": null,
      "outputs": []
    }
  ]
}